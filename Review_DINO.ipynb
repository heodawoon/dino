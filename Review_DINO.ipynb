{
  "nbformat": 4,
  "nbformat_minor": 0,
  "metadata": {
    "colab": {
      "name": "Review_DINO.ipynb",
      "provenance": [],
      "collapsed_sections": [],
      "authorship_tag": "ABX9TyO7g/NnrPz7GezXu908qFiR",
      "include_colab_link": true
    },
    "kernelspec": {
      "name": "python3",
      "display_name": "Python 3"
    },
    "language_info": {
      "name": "python"
    }
  },
  "cells": [
    {
      "cell_type": "markdown",
      "metadata": {
        "id": "view-in-github",
        "colab_type": "text"
      },
      "source": [
        "<a href=\"https://colab.research.google.com/github/heodawoon/dino/blob/main/Review_DINO.ipynb\" target=\"_parent\"><img src=\"https://colab.research.google.com/assets/colab-badge.svg\" alt=\"Open In Colab\"/></a>"
      ]
    },
    {
      "cell_type": "markdown",
      "metadata": {
        "id": "QP1HkfrSWtBy"
      },
      "source": [
        "# [AAA738] Code Review\n",
        "- Emerging Properties in Self-Supervised Vision Transformers (Caron et al., *arXiv*, 2021)\n",
        "- Student name (ID): Da-Woon Heo (2020010175), JYM?\n",
        "- Date: 2021.10.14."
      ]
    },
    {
      "cell_type": "code",
      "metadata": {
        "id": "CPtp9ognYjQP"
      },
      "source": [
        ""
      ],
      "execution_count": null,
      "outputs": []
    },
    {
      "cell_type": "markdown",
      "metadata": {
        "id": "Rvqcy-8UXi3j"
      },
      "source": [
        ""
      ]
    }
  ]
}